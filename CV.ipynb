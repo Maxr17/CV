{
 "cells": [
  {
   "cell_type": "markdown",
   "id": "b824d7d4-d9b3-4686-b922-4c94f0ff5e96",
   "metadata": {
    "slideshow": {
     "slide_type": "slide"
    },
    "user_expressions": []
   },
   "source": [
    " # My CV"
   ]
  },
  {
   "cell_type": "code",
   "execution_count": null,
   "id": "3a2e91f1-bd58-4c5e-9966-f27aa26d5cb0",
   "metadata": {},
   "outputs": [],
   "source": []
  }
 ],
 "metadata": {
  "celltoolbar": "Slideshow",
  "kernelspec": {
   "display_name": "Python 3 (ipykernel)",
   "language": "python",
   "name": "python3"
  },
  "language_info": {
   "codemirror_mode": {
    "name": "ipython",
    "version": 3
   },
   "file_extension": ".py",
   "mimetype": "text/x-python",
   "name": "python",
   "nbconvert_exporter": "python",
   "pygments_lexer": "ipython3",
   "version": "3.9.13"
  }
 },
 "nbformat": 4,
 "nbformat_minor": 5
}
