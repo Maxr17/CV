{
 "cells": [
  {
   "cell_type": "markdown",
   "id": "b718d8f0-9b8f-421c-abbb-6c4455821d02",
   "metadata": {
    "slideshow": {
     "slide_type": "slide"
    },
    "tags": [],
    "user_expressions": []
   },
   "source": [
    "# __Maksym Rusakov__"
   ]
  },
  {
   "cell_type": "markdown",
   "id": "ff160808-0621-4dc4-bdef-e6039ed42dd5",
   "metadata": {
    "slideshow": {
     "slide_type": "fragment"
    },
    "tags": [],
    "user_expressions": []
   },
   "source": [
    "### _6322 Sudbury Dr, 75312 Dallas, TX_"
   ]
  },
  {
   "cell_type": "markdown",
   "id": "c905c84d-c8e3-4c2a-9ab0-000c3d4e6fa1",
   "metadata": {
    "slideshow": {
     "slide_type": "slide"
    },
    "tags": [],
    "user_expressions": []
   },
   "source": [
    "## Skills:"
   ]
  },
  {
   "cell_type": "markdown",
   "id": "8282f71c-927e-4470-99c1-e17d44fbf45b",
   "metadata": {
    "slideshow": {
     "slide_type": "fragment"
    },
    "tags": [],
    "user_expressions": []
   },
   "source": [
    "* Excel\n",
    "* Real Estate Liscence\n",
    "* Networking & Connection building\n",
    "* Leadership\n",
    "* Russian Fluent\n",
    "* Ukranian Fluent\n",
    "* History Expert\n",
    "* Finance\n",
    "* Accounting"
   ]
  },
  {
   "cell_type": "markdown",
   "id": "039ed286-d755-450a-93dd-bba1f344e0a8",
   "metadata": {
    "slideshow": {
     "slide_type": "slide"
    },
    "tags": [],
    "user_expressions": []
   },
   "source": [
    "## Linkedn:\n",
    "[Link](https://www.linkedin.com)"
   ]
  },
  {
   "cell_type": "markdown",
   "id": "ad6db112-90fe-45ef-a4b6-92da0ab0854c",
   "metadata": {
    "slideshow": {
     "slide_type": "slide"
    },
    "tags": [],
    "user_expressions": []
   },
   "source": [
    "## Education:"
   ]
  },
  {
   "cell_type": "markdown",
   "id": "530c529c-89c0-4a17-aa45-92c3b1cd583f",
   "metadata": {
    "slideshow": {
     "slide_type": "-"
    },
    "tags": [],
    "user_expressions": []
   },
   "source": [
    "* Southern Methodist University\n",
    "* Champions school of Real Esatate\n",
    "* Redondo Union High School"
   ]
  },
  {
   "cell_type": "markdown",
   "id": "d6675df6-ede3-4767-b1c6-77131378e5c4",
   "metadata": {
    "slideshow": {
     "slide_type": "slide"
    },
    "tags": [],
    "user_expressions": []
   },
   "source": [
    "# About me:\n",
    "My name is _Maksym Rusakov_, and I was originally born in __Kiev, Ukraine__. Me and my family moved to __California__ when I was _14 years old_, and I quickly got interested in bussines sides of _finance, enterpreneurship and real estate_. I am looking for jobs as __financial analyst, consultunt real estate broker or investor broker__."
   ]
  }
 ],
 "metadata": {
  "celltoolbar": "Slideshow",
  "kernelspec": {
   "display_name": "Python 3 (ipykernel)",
   "language": "python",
   "name": "python3"
  },
  "language_info": {
   "codemirror_mode": {
    "name": "ipython",
    "version": 3
   },
   "file_extension": ".py",
   "mimetype": "text/x-python",
   "name": "python",
   "nbconvert_exporter": "python",
   "pygments_lexer": "ipython3",
   "version": "3.9.13"
  }
 },
 "nbformat": 4,
 "nbformat_minor": 5
}
